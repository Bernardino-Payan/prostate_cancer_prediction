{
 "cells": [
  {
   "cell_type": "markdown",
   "id": "a5433c37-f842-42f2-8e05-cdfd35b58ce0",
   "metadata": {},
   "source": [
    "### Bernardino Payan ID: 9000684321 Email: b.payan8432@student.nu.edu"
   ]
  },
  {
   "cell_type": "markdown",
   "id": "e003273e-6e66-4168-9994-f610e5791aa8",
   "metadata": {},
   "source": [
    "### Prdeciting Prostate Cancer"
   ]
  },
  {
   "cell_type": "code",
   "execution_count": 4,
   "id": "43b72c09-a417-47a8-b591-a4c5ba4fd876",
   "metadata": {
    "ExecuteTime": {
     "end_time": "2025-02-20T21:22:53.932841Z",
     "start_time": "2025-02-20T21:22:53.916685Z"
    }
   },
   "outputs": [
    {
     "data": {
      "text/plain": [
       "'/Users/bernardinopayan/prostate_cancer_prediction'"
      ]
     },
     "execution_count": 4,
     "metadata": {},
     "output_type": "execute_result"
    }
   ],
   "source": [
    "pwd"
   ]
  },
  {
   "cell_type": "code",
   "execution_count": 105,
   "id": "ac7ef0d8-18e9-45ec-b837-e8f215a5417b",
   "metadata": {},
   "outputs": [
    {
     "name": "stdout",
     "output_type": "stream",
     "text": [
      " Libraries imported successfully\n"
     ]
    }
   ],
   "source": [
    "# Import required libraries\n",
    "import numpy as np\n",
    "import pandas as pd\n",
    "import matplotlib.pyplot as plt\n",
    "import seaborn as sns\n",
    "import joblib\n",
    "from scipy.stats import uniform, randint\n",
    "\n",
    "# Scikit-learn libraries\n",
    "from sklearn.preprocessing import StandardScaler\n",
    "from sklearn.model_selection import train_test_split, RandomizedSearchCV, StratifiedKFold\n",
    "from sklearn.metrics import classification_report, confusion_matrix, roc_auc_score, precision_recall_curve, accuracy_score\n",
    "from sklearn.ensemble import RandomForestClassifier\n",
    "from sklearn.pipeline import Pipeline\n",
    "from sklearn.compose import ColumnTransformer\n",
    "from xgboost import XGBClassifier\n",
    "from imblearn.over_sampling import SMOTE\n",
    "\n",
    "# Ignore warnings\n",
    "import warnings\n",
    "warnings.filterwarnings(\"ignore\")\n",
    "\n",
    "print(\" Libraries imported successfully\")"
   ]
  },
  {
   "cell_type": "code",
   "execution_count": 106,
   "id": "717f3016-3e36-4f36-9f69-021351237de6",
   "metadata": {},
   "outputs": [
    {
     "name": "stdout",
     "output_type": "stream",
     "text": [
      "<class 'pandas.core.frame.DataFrame'>\n",
      "RangeIndex: 27945 entries, 0 to 27944\n",
      "Data columns (total 30 columns):\n",
      " #   Column                   Non-Null Count  Dtype  \n",
      "---  ------                   --------------  -----  \n",
      " 0   Patient_ID               27945 non-null  int64  \n",
      " 1   Age                      27945 non-null  int64  \n",
      " 2   Family_History           27945 non-null  object \n",
      " 3   Race_African_Ancestry    27945 non-null  object \n",
      " 4   PSA_Level                27945 non-null  float64\n",
      " 5   DRE_Result               27945 non-null  object \n",
      " 6   Biopsy_Result            27945 non-null  object \n",
      " 7   Difficulty_Urinating     27945 non-null  object \n",
      " 8   Weak_Urine_Flow          27945 non-null  object \n",
      " 9   Blood_in_Urine           27945 non-null  object \n",
      " 10  Pelvic_Pain              27945 non-null  object \n",
      " 11  Back_Pain                27945 non-null  object \n",
      " 12  Erectile_Dysfunction     27945 non-null  object \n",
      " 13  Cancer_Stage             27945 non-null  object \n",
      " 14  Treatment_Recommended    27945 non-null  object \n",
      " 15  Survival_5_Years         27945 non-null  object \n",
      " 16  Exercise_Regularly       27945 non-null  object \n",
      " 17  Healthy_Diet             27945 non-null  object \n",
      " 18  BMI                      27945 non-null  float64\n",
      " 19  Smoking_History          27945 non-null  object \n",
      " 20  Alcohol_Consumption      27945 non-null  object \n",
      " 21  Hypertension             27945 non-null  object \n",
      " 22  Diabetes                 27945 non-null  object \n",
      " 23  Cholesterol_Level        27945 non-null  object \n",
      " 24  Screening_Age            27945 non-null  int64  \n",
      " 25  Follow_Up_Required       27945 non-null  object \n",
      " 26  Prostate_Volume          27945 non-null  float64\n",
      " 27  Genetic_Risk_Factors     27945 non-null  object \n",
      " 28  Previous_Cancer_History  27945 non-null  object \n",
      " 29  Early_Detection          27945 non-null  object \n",
      "dtypes: float64(3), int64(3), object(24)\n",
      "memory usage: 6.4+ MB\n",
      "None\n"
     ]
    },
    {
     "data": {
      "text/html": [
       "<div>\n",
       "<style scoped>\n",
       "    .dataframe tbody tr th:only-of-type {\n",
       "        vertical-align: middle;\n",
       "    }\n",
       "\n",
       "    .dataframe tbody tr th {\n",
       "        vertical-align: top;\n",
       "    }\n",
       "\n",
       "    .dataframe thead th {\n",
       "        text-align: right;\n",
       "    }\n",
       "</style>\n",
       "<table border=\"1\" class=\"dataframe\">\n",
       "  <thead>\n",
       "    <tr style=\"text-align: right;\">\n",
       "      <th></th>\n",
       "      <th>Patient_ID</th>\n",
       "      <th>Age</th>\n",
       "      <th>Family_History</th>\n",
       "      <th>Race_African_Ancestry</th>\n",
       "      <th>PSA_Level</th>\n",
       "      <th>DRE_Result</th>\n",
       "      <th>Biopsy_Result</th>\n",
       "      <th>Difficulty_Urinating</th>\n",
       "      <th>Weak_Urine_Flow</th>\n",
       "      <th>Blood_in_Urine</th>\n",
       "      <th>...</th>\n",
       "      <th>Alcohol_Consumption</th>\n",
       "      <th>Hypertension</th>\n",
       "      <th>Diabetes</th>\n",
       "      <th>Cholesterol_Level</th>\n",
       "      <th>Screening_Age</th>\n",
       "      <th>Follow_Up_Required</th>\n",
       "      <th>Prostate_Volume</th>\n",
       "      <th>Genetic_Risk_Factors</th>\n",
       "      <th>Previous_Cancer_History</th>\n",
       "      <th>Early_Detection</th>\n",
       "    </tr>\n",
       "  </thead>\n",
       "  <tbody>\n",
       "    <tr>\n",
       "      <th>0</th>\n",
       "      <td>1</td>\n",
       "      <td>78</td>\n",
       "      <td>No</td>\n",
       "      <td>Yes</td>\n",
       "      <td>5.07</td>\n",
       "      <td>Normal</td>\n",
       "      <td>Benign</td>\n",
       "      <td>No</td>\n",
       "      <td>No</td>\n",
       "      <td>No</td>\n",
       "      <td>...</td>\n",
       "      <td>Moderate</td>\n",
       "      <td>No</td>\n",
       "      <td>No</td>\n",
       "      <td>Normal</td>\n",
       "      <td>45</td>\n",
       "      <td>No</td>\n",
       "      <td>46.0</td>\n",
       "      <td>No</td>\n",
       "      <td>No</td>\n",
       "      <td>Yes</td>\n",
       "    </tr>\n",
       "    <tr>\n",
       "      <th>1</th>\n",
       "      <td>2</td>\n",
       "      <td>68</td>\n",
       "      <td>No</td>\n",
       "      <td>Yes</td>\n",
       "      <td>10.24</td>\n",
       "      <td>Normal</td>\n",
       "      <td>Benign</td>\n",
       "      <td>Yes</td>\n",
       "      <td>No</td>\n",
       "      <td>No</td>\n",
       "      <td>...</td>\n",
       "      <td>Low</td>\n",
       "      <td>No</td>\n",
       "      <td>No</td>\n",
       "      <td>High</td>\n",
       "      <td>65</td>\n",
       "      <td>No</td>\n",
       "      <td>78.2</td>\n",
       "      <td>No</td>\n",
       "      <td>No</td>\n",
       "      <td>Yes</td>\n",
       "    </tr>\n",
       "    <tr>\n",
       "      <th>2</th>\n",
       "      <td>3</td>\n",
       "      <td>54</td>\n",
       "      <td>No</td>\n",
       "      <td>No</td>\n",
       "      <td>13.79</td>\n",
       "      <td>Normal</td>\n",
       "      <td>Benign</td>\n",
       "      <td>No</td>\n",
       "      <td>No</td>\n",
       "      <td>No</td>\n",
       "      <td>...</td>\n",
       "      <td>Low</td>\n",
       "      <td>No</td>\n",
       "      <td>No</td>\n",
       "      <td>Normal</td>\n",
       "      <td>61</td>\n",
       "      <td>No</td>\n",
       "      <td>21.1</td>\n",
       "      <td>No</td>\n",
       "      <td>No</td>\n",
       "      <td>Yes</td>\n",
       "    </tr>\n",
       "    <tr>\n",
       "      <th>3</th>\n",
       "      <td>4</td>\n",
       "      <td>82</td>\n",
       "      <td>No</td>\n",
       "      <td>No</td>\n",
       "      <td>8.03</td>\n",
       "      <td>Abnormal</td>\n",
       "      <td>Benign</td>\n",
       "      <td>No</td>\n",
       "      <td>No</td>\n",
       "      <td>No</td>\n",
       "      <td>...</td>\n",
       "      <td>Low</td>\n",
       "      <td>No</td>\n",
       "      <td>No</td>\n",
       "      <td>Normal</td>\n",
       "      <td>47</td>\n",
       "      <td>Yes</td>\n",
       "      <td>79.9</td>\n",
       "      <td>No</td>\n",
       "      <td>Yes</td>\n",
       "      <td>Yes</td>\n",
       "    </tr>\n",
       "    <tr>\n",
       "      <th>4</th>\n",
       "      <td>5</td>\n",
       "      <td>47</td>\n",
       "      <td>Yes</td>\n",
       "      <td>No</td>\n",
       "      <td>1.89</td>\n",
       "      <td>Normal</td>\n",
       "      <td>Malignant</td>\n",
       "      <td>Yes</td>\n",
       "      <td>Yes</td>\n",
       "      <td>No</td>\n",
       "      <td>...</td>\n",
       "      <td>Moderate</td>\n",
       "      <td>Yes</td>\n",
       "      <td>No</td>\n",
       "      <td>Normal</td>\n",
       "      <td>72</td>\n",
       "      <td>No</td>\n",
       "      <td>32.0</td>\n",
       "      <td>No</td>\n",
       "      <td>No</td>\n",
       "      <td>Yes</td>\n",
       "    </tr>\n",
       "  </tbody>\n",
       "</table>\n",
       "<p>5 rows × 30 columns</p>\n",
       "</div>"
      ],
      "text/plain": [
       "   Patient_ID  Age Family_History Race_African_Ancestry  PSA_Level DRE_Result  \\\n",
       "0           1   78             No                   Yes       5.07     Normal   \n",
       "1           2   68             No                   Yes      10.24     Normal   \n",
       "2           3   54             No                    No      13.79     Normal   \n",
       "3           4   82             No                    No       8.03   Abnormal   \n",
       "4           5   47            Yes                    No       1.89     Normal   \n",
       "\n",
       "  Biopsy_Result Difficulty_Urinating Weak_Urine_Flow Blood_in_Urine  ...  \\\n",
       "0        Benign                   No              No             No  ...   \n",
       "1        Benign                  Yes              No             No  ...   \n",
       "2        Benign                   No              No             No  ...   \n",
       "3        Benign                   No              No             No  ...   \n",
       "4     Malignant                  Yes             Yes             No  ...   \n",
       "\n",
       "  Alcohol_Consumption Hypertension Diabetes Cholesterol_Level Screening_Age  \\\n",
       "0            Moderate           No       No            Normal            45   \n",
       "1                 Low           No       No              High            65   \n",
       "2                 Low           No       No            Normal            61   \n",
       "3                 Low           No       No            Normal            47   \n",
       "4            Moderate          Yes       No            Normal            72   \n",
       "\n",
       "  Follow_Up_Required Prostate_Volume Genetic_Risk_Factors  \\\n",
       "0                 No            46.0                   No   \n",
       "1                 No            78.2                   No   \n",
       "2                 No            21.1                   No   \n",
       "3                Yes            79.9                   No   \n",
       "4                 No            32.0                   No   \n",
       "\n",
       "   Previous_Cancer_History Early_Detection  \n",
       "0                       No             Yes  \n",
       "1                       No             Yes  \n",
       "2                       No             Yes  \n",
       "3                      Yes             Yes  \n",
       "4                       No             Yes  \n",
       "\n",
       "[5 rows x 30 columns]"
      ]
     },
     "execution_count": 106,
     "metadata": {},
     "output_type": "execute_result"
    }
   ],
   "source": [
    "# Load the dataset\n",
    "file_path = \"prostate_cancer_prediction.csv\"  # Ensure this file exists in your working directory\n",
    "df = pd.read_csv(file_path)\n",
    "\n",
    "# Display dataset information\n",
    "print(df.info())\n",
    "\n",
    "# Display first few rows\n",
    "df.head()"
   ]
  },
  {
   "cell_type": "code",
   "execution_count": 107,
   "id": "b55cc12f-517a-4257-9a3f-11efdcc4b431",
   "metadata": {},
   "outputs": [
    {
     "name": "stdout",
     "output_type": "stream",
     "text": [
      "Unique values in Cancer_Stage: ['Localized' 'Metastatic' 'Advanced']\n",
      "Unique values in Treatment_Recommended: ['Active Surveillance' 'Radiation' 'Immunotherapy' 'Chemotherapy'\n",
      " 'Surgery' 'Hormone Therapy']\n",
      "Unique values in Alcohol_Consumption: ['Moderate' 'Low' 'High']\n",
      "Unique values in Cholesterol_Level: ['Normal' 'High']\n"
     ]
    }
   ],
   "source": [
    "# Check unique values for all categorical features\n",
    "categorical_features = ['Cancer_Stage', 'Treatment_Recommended', 'Alcohol_Consumption', 'Cholesterol_Level']\n",
    "\n",
    "for feature in categorical_features:\n",
    "    print(f\"Unique values in {feature}: {df[feature].unique()}\")"
   ]
  },
  {
   "cell_type": "code",
   "execution_count": 108,
   "id": "913c7251-aef4-4a18-b269-9951be429c04",
   "metadata": {},
   "outputs": [
    {
     "name": "stdout",
     "output_type": "stream",
     "text": [
      " Binary categorical variables converted to numeric.\n"
     ]
    }
   ],
   "source": [
    "# Convert binary categorical variables to numeric (0 = No, 1 = Yes)\n",
    "binary_vars = [\n",
    "    \"Family_History\", \"Race_African_Ancestry\", \"Difficulty_Urinating\", \"Weak_Urine_Flow\",\n",
    "    \"Blood_in_Urine\", \"Pelvic_Pain\", \"Back_Pain\", \"Erectile_Dysfunction\", \"Survival_5_Years\",\n",
    "    \"Exercise_Regularly\", \"Healthy_Diet\", \"Smoking_History\", \"Hypertension\", \"Diabetes\",\n",
    "    \"Follow_Up_Required\", \"Genetic_Risk_Factors\", \"Previous_Cancer_History\", \"Early_Detection\"\n",
    "]\n",
    "\n",
    "for var in binary_vars:\n",
    "    if var in df.columns:\n",
    "        df[var] = df[var].map({\"No\": 0, \"Yes\": 1})\n",
    "\n",
    "print(\" Binary categorical variables converted to numeric.\")"
   ]
  },
  {
   "cell_type": "code",
   "execution_count": 109,
   "id": "b9fbd85f-d710-47e5-9483-48ca59bbca20",
   "metadata": {},
   "outputs": [
    {
     "name": "stdout",
     "output_type": "stream",
     "text": [
      "Columns in DataFrame: ['Patient_ID', 'Age', 'Family_History', 'Race_African_Ancestry', 'PSA_Level', 'DRE_Result', 'Biopsy_Result', 'Difficulty_Urinating', 'Weak_Urine_Flow', 'Blood_in_Urine', 'Pelvic_Pain', 'Back_Pain', 'Erectile_Dysfunction', 'Cancer_Stage', 'Treatment_Recommended', 'Survival_5_Years', 'Exercise_Regularly', 'Healthy_Diet', 'BMI', 'Smoking_History', 'Alcohol_Consumption', 'Hypertension', 'Diabetes', 'Cholesterol_Level', 'Screening_Age', 'Follow_Up_Required', 'Prostate_Volume', 'Genetic_Risk_Factors', 'Previous_Cancer_History', 'Early_Detection']\n"
     ]
    }
   ],
   "source": [
    "print(\"Columns in DataFrame:\", df.columns.tolist())"
   ]
  },
  {
   "cell_type": "code",
   "execution_count": 110,
   "id": "e4d15b98-70c9-49ad-bbc5-b3becb1489ab",
   "metadata": {},
   "outputs": [
    {
     "name": "stdout",
     "output_type": "stream",
     "text": [
      " One-hot encoding applied successfully!\n"
     ]
    }
   ],
   "source": [
    "# Apply one-hot encoding to categorical variables\n",
    "df = pd.get_dummies(df, columns=[\"Cancer_Stage\", \"Treatment_Recommended\", \"Alcohol_Consumption\", \"Cholesterol_Level\"], drop_first=True)\n",
    "\n",
    "print(\" One-hot encoding applied successfully!\")"
   ]
  },
  {
   "cell_type": "code",
   "execution_count": 111,
   "id": "4df980bc-02c3-46ce-80d1-a9ab8b988c6e",
   "metadata": {},
   "outputs": [],
   "source": [
    "# Drop unnecessary columns\n",
    "df.drop(columns=[\"Patient_ID\"], inplace=True)\n",
    "\n",
    "# Define the target variable\n",
    "y = df[\"Biopsy_Result\"]"
   ]
  },
  {
   "cell_type": "code",
   "execution_count": 112,
   "id": "3ebb23f3-9986-4ccc-acc4-1a7141d8f448",
   "metadata": {},
   "outputs": [
    {
     "name": "stdout",
     "output_type": "stream",
     "text": [
      "All required features are present.\n"
     ]
    }
   ],
   "source": [
    "TOP_10_FEATURES = [\n",
    "    \"Alcohol_Consumption_Moderate\",\n",
    "    \"Alcohol_Consumption_Low\",\n",
    "    \"Treatment_Recommended_Chemotherapy\",\n",
    "    \"Treatment_Recommended_Hormone Therapy\",  \n",
    "    \"Cancer_Stage_Localized\",\n",
    "    \"Treatment_Recommended_Surgery\",\n",
    "    \"Treatment_Recommended_Immunotherapy\",\n",
    "    \"Treatment_Recommended_Radiation\",\n",
    "    \"Diabetes\",\n",
    "    \"Cancer_Stage_Metastatic\"\n",
    "]\n",
    "\n",
    "# Check again if all features exist\n",
    "missing_features = [feature for feature in TOP_10_FEATURES if feature not in df.columns]\n",
    "if missing_features:\n",
    "    print(\" Warning! Missing features in dataset:\", missing_features)\n",
    "else:\n",
    "    print(\"All required features are present.\")"
   ]
  },
  {
   "cell_type": "code",
   "execution_count": 74,
   "id": "bf550542-21e3-42ff-ad3a-e99b820beb61",
   "metadata": {},
   "outputs": [
    {
     "name": "stdout",
     "output_type": "stream",
     "text": [
      "['Patient_ID', 'Age', 'Family_History', 'Race_African_Ancestry', 'PSA_Level', 'DRE_Result', 'Biopsy_Result', 'Difficulty_Urinating', 'Weak_Urine_Flow', 'Blood_in_Urine', 'Pelvic_Pain', 'Back_Pain', 'Erectile_Dysfunction', 'Survival_5_Years', 'Exercise_Regularly', 'Healthy_Diet', 'BMI', 'Smoking_History', 'Hypertension', 'Diabetes', 'Screening_Age', 'Follow_Up_Required', 'Prostate_Volume', 'Genetic_Risk_Factors', 'Previous_Cancer_History', 'Early_Detection', 'Cancer_Stage_Localized', 'Cancer_Stage_Metastatic', 'Treatment_Recommended_Chemotherapy', 'Treatment_Recommended_Hormone Therapy', 'Treatment_Recommended_Immunotherapy', 'Treatment_Recommended_Radiation', 'Treatment_Recommended_Surgery', 'Alcohol_Consumption_Low', 'Alcohol_Consumption_Moderate', 'Cholesterol_Level_Normal']\n"
     ]
    }
   ],
   "source": [
    "# Print all column names in the dataset to find the correct feature names\n",
    "print(df.columns.tolist())"
   ]
  },
  {
   "cell_type": "code",
   "execution_count": 117,
   "id": "758404a9-9344-4567-b90e-7055a4081371",
   "metadata": {},
   "outputs": [
    {
     "name": "stdout",
     "output_type": "stream",
     "text": [
      "Dataset shape: (27945, 10)\n",
      "X shape: (27945, 10)\n",
      "y shape: (27945,)\n"
     ]
    }
   ],
   "source": [
    "# Define the target variable\n",
    "y = df[\"Biopsy_Result\"]\n",
    "\n",
    "# Define feature matrix using only the top 10 features\n",
    "X = df[TOP_10_FEATURES]\n",
    "\n",
    "# Show dataset shape\n",
    "print(\"Dataset shape:\", X.shape)\n",
    "print(\"X shape:\", X.shape)\n",
    "print(\"y shape:\", y.shape)"
   ]
  },
  {
   "cell_type": "code",
   "execution_count": 133,
   "id": "16345a81-3fa3-4eff-95e2-1847329770dc",
   "metadata": {},
   "outputs": [
    {
     "name": "stdout",
     "output_type": "stream",
     "text": [
      "Biopsy_Result\n",
      "0    19549\n",
      "1     8396\n",
      "Name: count, dtype: int64\n"
     ]
    }
   ],
   "source": [
    "# Convert Biopsy_Result from categorical to numeric (0 = Benign, 1 = Malignant)\n",
    "df[\"Biopsy_Result\"] = df[\"Biopsy_Result\"].map({\"Benign\": 0, \"Malignant\": 1})\n",
    "\n",
    "# Ensure conversion was successful\n",
    "print(df[\"Biopsy_Result\"].value_counts())  # Should show counts for 0 and 1"
   ]
  },
  {
   "cell_type": "code",
   "execution_count": 137,
   "id": "90d78937-fb38-40ec-9c5c-5eb5d3cae665",
   "metadata": {},
   "outputs": [
    {
     "name": "stdout",
     "output_type": "stream",
     "text": [
      "Biopsy_Result\n",
      "1    15639\n",
      "0    15639\n",
      "Name: count, dtype: int64\n",
      " Train-test split completed.\n",
      "Training set size: (31278, 10)\n",
      "Testing set size: (7820, 10)\n"
     ]
    }
   ],
   "source": [
    "# Handle class imbalance with SMOTE\n",
    "smote = SMOTE(random_state=42, sampling_strategy=\"auto\")  # Ensures balanced classes\n",
    "X_resampled, y_resampled = smote.fit_resample(X, df[\"Biopsy_Result\"])\n",
    "\n",
    "# Train-test split\n",
    "X_train, X_test, y_train, y_test = train_test_split(X_resampled, y_resampled, test_size=0.2, random_state=42, stratify=y_resampled)\n",
    "\n",
    "# Check if `y_train` is correctly formatted\n",
    "print(y_train.value_counts())  # Should show counts for 0 and 1\n",
    "\n",
    "print(\" Train-test split completed.\")\n",
    "print(f\"Training set size: {X_train.shape}\")\n",
    "print(f\"Testing set size: {X_test.shape}\")"
   ]
  },
  {
   "cell_type": "code",
   "execution_count": 138,
   "id": "5e5b2ad9-735c-443c-b196-bd582212abec",
   "metadata": {},
   "outputs": [
    {
     "name": "stdout",
     "output_type": "stream",
     "text": [
      " Preprocessing pipeline defined.\n"
     ]
    }
   ],
   "source": [
    "# Identify numeric features from the top 10\n",
    "numeric_features = [feature for feature in TOP_10_FEATURES if df[feature].dtype in [\"int64\", \"float64\"]]\n",
    "\n",
    "# Define ColumnTransformer\n",
    "preprocessor = ColumnTransformer(\n",
    "    transformers=[\n",
    "        (\"num\", StandardScaler(), numeric_features)  # Standardize selected features\n",
    "    ], remainder=\"passthrough\"  # Keep all other features unchanged\n",
    ")\n",
    "\n",
    "# Define a pipeline with preprocessing and model\n",
    "pipeline = Pipeline([\n",
    "    (\"preprocessor\", preprocessor),\n",
    "    (\"classifier\", RandomForestClassifier(random_state=42))\n",
    "])\n",
    "\n",
    "print(\" Preprocessing pipeline defined.\")"
   ]
  },
  {
   "cell_type": "code",
   "execution_count": 139,
   "id": "8e8689cd-0586-452a-8aa7-6b14463c5fd6",
   "metadata": {},
   "outputs": [
    {
     "name": "stdout",
     "output_type": "stream",
     "text": [
      " Hyperparameter tuning completed.\n",
      "Best parameters: {'classifier__max_depth': 6, 'classifier__min_samples_leaf': 4, 'classifier__min_samples_split': 5, 'classifier__n_estimators': 70}\n"
     ]
    }
   ],
   "source": [
    "# Define hyperparameter grid\n",
    "param_distributions = {\n",
    "    \"classifier__n_estimators\": randint(50, 200),\n",
    "    \"classifier__max_depth\": randint(5, 20),\n",
    "    \"classifier__min_samples_split\": randint(2, 10),\n",
    "    \"classifier__min_samples_leaf\": randint(1, 5)\n",
    "}\n",
    "\n",
    "# Run RandomizedSearchCV with 5-fold cross-validation\n",
    "random_search = RandomizedSearchCV(pipeline, param_distributions, n_iter=20, scoring=\"accuracy\", cv=5, random_state=42, n_jobs=-1)\n",
    "random_search.fit(X_train, y_train)\n",
    "\n",
    "# Retrieve best model\n",
    "tuned_rf_model = random_search.best_estimator_\n",
    "\n",
    "print(\" Hyperparameter tuning completed.\")\n",
    "print(\"Best parameters:\", random_search.best_params_)"
   ]
  },
  {
   "cell_type": "code",
   "execution_count": 140,
   "id": "b1c3c6d1-996b-415e-875e-fb5b359ec846",
   "metadata": {},
   "outputs": [
    {
     "name": "stdout",
     "output_type": "stream",
     "text": [
      " XGBoost model trained successfully.\n"
     ]
    }
   ],
   "source": [
    "from xgboost import XGBClassifier\n",
    "\n",
    "# Avoid division by zero error by adding a small constant (1e-6)\n",
    "pos_count = len(y_train[y_train == 1])\n",
    "neg_count = len(y_train[y_train == 0])\n",
    "\n",
    "# If there are no positive samples, set scale_pos_weight to 1\n",
    "scale_pos_weight = neg_count / (pos_count + 1e-6) if pos_count > 0 else 1\n",
    "\n",
    "# Train XGBoost\n",
    "xgb_model = XGBClassifier(scale_pos_weight=scale_pos_weight, random_state=42)\n",
    "xgb_model.fit(X_train, y_train)\n",
    "\n",
    "print(\" XGBoost model trained successfully.\")"
   ]
  },
  {
   "cell_type": "code",
   "execution_count": 141,
   "id": "6c7b7b42-3bd9-49be-8850-e002ce038c4c",
   "metadata": {},
   "outputs": [
    {
     "name": "stdout",
     "output_type": "stream",
     "text": [
      " Evaluation for Random Forest:\n",
      "              precision    recall  f1-score   support\n",
      "\n",
      "           0       0.51      0.54      0.52      3910\n",
      "           1       0.51      0.48      0.50      3910\n",
      "\n",
      "    accuracy                           0.51      7820\n",
      "   macro avg       0.51      0.51      0.51      7820\n",
      "weighted avg       0.51      0.51      0.51      7820\n",
      "\n",
      "ROC-AUC Score (Random Forest): 0.5133986891765491\n",
      "\n",
      " Evaluation for XGBoost:\n",
      "              precision    recall  f1-score   support\n",
      "\n",
      "           0       0.51      0.42      0.46      3910\n",
      "           1       0.51      0.60      0.55      3910\n",
      "\n",
      "    accuracy                           0.51      7820\n",
      "   macro avg       0.51      0.51      0.51      7820\n",
      "weighted avg       0.51      0.51      0.51      7820\n",
      "\n",
      "ROC-AUC Score (XGBoost): 0.511505909825289\n"
     ]
    }
   ],
   "source": [
    "from sklearn.metrics import classification_report, roc_auc_score\n",
    "\n",
    "# Predictions for Random Forest\n",
    "y_pred_rf = tuned_rf_model.predict(X_test)\n",
    "y_pred_proba_rf = tuned_rf_model.predict_proba(X_test)[:, 1]\n",
    "\n",
    "# Predictions for XGBoost\n",
    "y_pred_xgb = xgb_model.predict(X_test)\n",
    "y_pred_proba_xgb = xgb_model.predict_proba(X_test)[:, 1]\n",
    "\n",
    "# Evaluate Random Forest\n",
    "print(\" Evaluation for Random Forest:\")\n",
    "print(classification_report(y_test, y_pred_rf))\n",
    "print(f\"ROC-AUC Score (Random Forest): {roc_auc_score(y_test, y_pred_proba_rf)}\")\n",
    "\n",
    "# Evaluate XGBoost\n",
    "print(\"\\n Evaluation for XGBoost:\")\n",
    "print(classification_report(y_test, y_pred_xgb))\n",
    "print(f\"ROC-AUC Score (XGBoost): {roc_auc_score(y_test, y_pred_proba_xgb)}\")"
   ]
  },
  {
   "cell_type": "code",
   "execution_count": 142,
   "id": "671a315b-6798-4067-b9bc-9619a8f0ac0f",
   "metadata": {},
   "outputs": [
    {
     "data": {
      "image/png": "[encoded data removed]",
      "text/plain": [
       "<Figure size 800x600 with 1 Axes>"
      ]
     },
     "metadata": {},
     "output_type": "display_data"
    }
   ],
   "source": [
    "# Precision-Recall Curve for XGBoost\n",
    "precision_xgb, recall_xgb, _ = precision_recall_curve(y_test, y_pred_proba_xgb)\n",
    "precision_rf, recall_rf, _ = precision_recall_curve(y_test, y_pred_proba_rf)\n",
    "\n",
    "plt.figure(figsize=(8, 6))\n",
    "plt.plot(recall_rf, precision_rf, marker=\".\", label=\"Random Forest\")\n",
    "plt.plot(recall_xgb, precision_xgb, marker=\".\", label=\"XGBoost\")\n",
    "plt.title(\"Precision-Recall Curve Comparison\")\n",
    "plt.xlabel(\"Recall\")\n",
    "plt.ylabel(\"Precision\")\n",
    "plt.legend()\n",
    "plt.show()"
   ]
  },
  {
   "cell_type": "code",
   "execution_count": 143,
   "id": "ca1d6e6a-4e53-48c7-9de2-042fb08a6dbd",
   "metadata": {},
   "outputs": [
    {
     "name": "stdout",
     "output_type": "stream",
     "text": [
      "\n",
      " Model Evaluation Metrics (XGBoost):\n",
      "MAE: 0.4991025965098682\n",
      "MSE: 0.25040761436403\n",
      "RMSE: 0.5004074483498722\n",
      "R² Score: -0.0016304574561198937\n"
     ]
    },
    {
     "data": {
      "image/png": "[encoded data removed]",
      "text/plain": [
       "<Figure size 800x500 with 1 Axes>"
      ]
     },
     "metadata": {},
     "output_type": "display_data"
    }
   ],
   "source": [
    "# Evaluation Metrics for XGBoost\n",
    "mae = mean_absolute_error(y_test, y_pred_proba_xgb)\n",
    "mse = mean_squared_error(y_test, y_pred_proba_xgb)\n",
    "rmse = np.sqrt(mse)\n",
    "r2 = r2_score(y_test, y_pred_proba_xgb)\n",
    "\n",
    "print(\"\\n Model Evaluation Metrics (XGBoost):\")\n",
    "print(f\"MAE: {mae}\")\n",
    "print(f\"MSE: {mse}\")\n",
    "print(f\"RMSE: {rmse}\")\n",
    "print(f\"R² Score: {r2}\")\n",
    "\n",
    "# Bar chart of evaluation metrics\n",
    "metrics = [\"MAE\", \"MSE\", \"RMSE\", \"R²\"]\n",
    "values = [mae, mse, rmse, r2]\n",
    "\n",
    "plt.figure(figsize=(8, 5))\n",
    "plt.bar(metrics, values, color=[\"blue\", \"orange\", \"green\", \"purple\"])\n",
    "plt.title(\"Model Evaluation Metrics (XGBoost)\")\n",
    "plt.ylabel(\"Values\")\n",
    "\n",
    "for i, value in enumerate(values):\n",
    "    plt.text(i, value + 0.01, f\"{value:.4f}\", ha=\"center\", va=\"bottom\", fontsize=10)\n",
    "plt.show()"
   ]
  },
  {
   "cell_type": "code",
   "execution_count": 144,
   "id": "e0a7ca72-81e5-4776-b9f9-d1104ef2f6e3",
   "metadata": {},
   "outputs": [
    {
     "name": "stdout",
     "output_type": "stream",
     "text": [
      "Top 10 Important Features:\n",
      "                                 Feature  Importance\n",
      "5          Treatment_Recommended_Surgery    0.176162\n",
      "6    Treatment_Recommended_Immunotherapy    0.125802\n",
      "2     Treatment_Recommended_Chemotherapy    0.106137\n",
      "7        Treatment_Recommended_Radiation    0.102756\n",
      "0           Alcohol_Consumption_Moderate    0.095122\n",
      "9                Cancer_Stage_Metastatic    0.087510\n",
      "4                 Cancer_Stage_Localized    0.086781\n",
      "8                               Diabetes    0.086031\n",
      "3  Treatment_Recommended_Hormone Therapy    0.081582\n",
      "1                Alcohol_Consumption_Low    0.052118\n"
     ]
    },
    {
     "data": {
      "image/png": "[encoded data removed]",
      "text/plain": [
       "<Figure size 1000x800 with 1 Axes>"
      ]
     },
     "metadata": {},
     "output_type": "display_data"
    }
   ],
   "source": [
    "# Extract feature importance from XGBoost\n",
    "feature_importances = xgb_model.feature_importances_\n",
    "\n",
    "importance_df = pd.DataFrame({\n",
    "    \"Feature\": X.columns,\n",
    "    \"Importance\": feature_importances\n",
    "}).sort_values(by=\"Importance\", ascending=False)\n",
    "\n",
    "print(\"Top 10 Important Features:\")\n",
    "print(importance_df.head(10))\n",
    "\n",
    "# Visualize feature importance\n",
    "plt.figure(figsize=(10, 8))\n",
    "sns.barplot(x=\"Importance\", y=\"Feature\", data=importance_df.head(15), palette=\"viridis\")\n",
    "plt.title(\"Top 15 Important Features (XGBoost)\")\n",
    "plt.xlabel(\"Importance\")\n",
    "plt.ylabel(\"Feature\")\n",
    "plt.show()"
   ]
  },
  {
   "cell_type": "code",
   "execution_count": 146,
   "id": "e70d15cd-b65f-48bb-8609-349ccc8d5ad5",
   "metadata": {},
   "outputs": [
    {
     "name": "stdout",
     "output_type": "stream",
     "text": [
      "Random Forest model saved successfully.\n"
     ]
    }
   ],
   "source": [
    "# Save Random Forest if it performs better\n",
    "joblib.dump(tuned_rf_model, \"final_prostate_cancer_rf_model.pkl\")\n",
    "print(\"Random Forest model saved successfully.\")"
   ]
  }
 ],
 "metadata": {
  "kernelspec": {
   "display_name": "Python 3 (ipykernel)",
   "language": "python",
   "name": "python3"
  },
  "language_info": {
   "codemirror_mode": {
    "name": "ipython",
    "version": 3
   },
   "file_extension": ".py",
   "mimetype": "text/x-python",
   "name": "python",
   "nbconvert_exporter": "python",
   "pygments_lexer": "ipython3",
   "version": "3.11.7"
  }
 },
 "nbformat": 4,
 "nbformat_minor": 5
}
